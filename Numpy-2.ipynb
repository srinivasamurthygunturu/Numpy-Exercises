{
 "cells": [
  {
   "cell_type": "code",
   "execution_count": null,
   "id": "990c0948",
   "metadata": {},
   "outputs": [],
   "source": [
    "# You can create a two-dimensional array of all ones by passing the number of\n",
    "# rows and columns as the first and second parameters of the ones() method, as\n",
    "# shown below:\n",
    "import numpy as np\n",
    "ones_array = np.ones((6,4))\n",
    "print(ones_array)\n"
   ]
  },
  {
   "cell_type": "code",
   "execution_count": null,
   "id": "b7eae528",
   "metadata": {},
   "outputs": [],
   "source": [
    "# You can create a two-dimensional array of all zeros by passing the number of\n",
    "# rows and columns as the first and second parameters of the zeros() method,\n",
    "# as shown below:\n",
    "\n",
    "zeros_array = np.zeros((6,4))\n",
    "print(zeros_array)"
   ]
  },
  {
   "cell_type": "code",
   "execution_count": null,
   "id": "d3436814",
   "metadata": {},
   "outputs": [],
   "source": [
    "# The eye() method is used to create an identity matrix in the form of a twodimensional\n",
    "# NumPy array. An identity matrix contains 1s along the diagonal,\n",
    "# while the rest of the elements are 0 in the array.\n",
    "\n",
    "eyes_array = np.eye(5)\n",
    "print(eyes_array)\n"
   ]
  },
  {
   "cell_type": "code",
   "execution_count": null,
   "id": "eb928162",
   "metadata": {},
   "outputs": [],
   "source": [
    "# The random.rand() function from the NumPy module can be used to create\n",
    "# a NumPy array with uniform distribution.\n",
    "\n",
    "uniform_random = np.random.rand(4, 5)\n",
    "print(uniform_random)\n"
   ]
  },
  {
   "cell_type": "code",
   "execution_count": null,
   "id": "7b0ac008",
   "metadata": {},
   "outputs": [],
   "source": [
    "# The random.randn() function from the NumPy module can be used to create\n",
    "# a NumPy array with normal distribution, as shown in the following example.\n",
    "\n",
    "normal_random = np.random.randn(4, 5)\n",
    "print(uniform_random)"
   ]
  },
  {
   "cell_type": "code",
   "execution_count": null,
   "id": "4a563f32",
   "metadata": {},
   "outputs": [],
   "source": [
    "# Finally, the random.randint() function from the NumPy module can be used\n",
    "# to create a NumPy array with random integers between a certain range. The\n",
    "# first parameter to the randint() function specifies the lower bound, the\n",
    "# second parameter specifies the upper bound, and the last parameter specifies\n",
    "# the number of random integers to generate between the range. The following\n",
    "# example generates five random integers between 5 and 50.\n",
    "\n",
    "integer_random = np.random.randint(10, 50, 5)\n",
    "print(integer_random)"
   ]
  },
  {
   "cell_type": "code",
   "execution_count": null,
   "id": "147a5b47",
   "metadata": {},
   "outputs": [],
   "source": [
    "# Depending on the dimensions, there are various ways to display the NumPy\n",
    "# arrays. The simplest way to print a NumPy array is to pass the array to the print\n",
    "# method, as you have already seen in the previous section. An example is\n",
    "# given below:\n",
    "\n",
    "my_array = np.array([10,12,14,16,20,25])\n",
    "print(my_array)\n"
   ]
  },
  {
   "cell_type": "code",
   "execution_count": null,
   "id": "4d14b25d",
   "metadata": {},
   "outputs": [],
   "source": [
    "# You can also use loops to display items in a NumPy array. It is a good idea to\n",
    "# know the dimensions of a NumPy array before printing the array on the\n",
    "# console. To see the dimensions of a NumPy array, you can use the ndim\n",
    "# attribute, which prints the number of dimensions for a NumPy array. To see\n",
    "# the shape of your NumPy array, you can use the shape attribute.\n",
    "\n",
    "print(my_array.ndim)\n",
    "print(my_array.shape)"
   ]
  }
 ],
 "metadata": {
  "kernelspec": {
   "display_name": "Python 3",
   "language": "python",
   "name": "python3"
  },
  "language_info": {
   "codemirror_mode": {
    "name": "ipython",
    "version": 3
   },
   "file_extension": ".py",
   "mimetype": "text/x-python",
   "name": "python",
   "nbconvert_exporter": "python",
   "pygments_lexer": "ipython3",
   "version": "3.8.8"
  }
 },
 "nbformat": 4,
 "nbformat_minor": 5
}
