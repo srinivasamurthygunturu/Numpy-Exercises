{
 "cells": [
  {
   "cell_type": "code",
   "execution_count": 1,
   "id": "3020d2e0",
   "metadata": {},
   "outputs": [
    {
     "name": "stdout",
     "output_type": "stream",
     "text": [
      "[ 2  4  8 10 12]\n",
      "std value:\n",
      "3.7094473981982814\n"
     ]
    }
   ],
   "source": [
    "# The standard deviation of a NumPy array can be found via the std() method.\n",
    "# Here is an example:\n",
    "import numpy as np\n",
    "my_array = np.array([2,4,8,10,12])\n",
    "print(my_array)\n",
    "print(\"std value:\")\n",
    "print(np.std(my_array))"
   ]
  },
  {
   "cell_type": "code",
   "execution_count": 2,
   "id": "64cf8c6f",
   "metadata": {},
   "outputs": [
    {
     "name": "stdout",
     "output_type": "stream",
     "text": [
      "[[14 19  9 19]\n",
      " [15  2  6 19]\n",
      " [15 16 18  9]]\n",
      "std-dev:\n",
      "[4.14578099 6.80073525 3.35410197]\n",
      "[0.47140452 7.40870359 5.09901951 4.71404521]\n"
     ]
    }
   ],
   "source": [
    "# To find the standard deviation across rows and columns in a two-dimensional\n",
    "# NumPy array, you need to call the std() method. The value of 1 for the axis\n",
    "# attribute returns the minimum list of minimum values across all columns,\n",
    "# whereas a value of 0 returns minimum values across all rows.\n",
    "\n",
    "my_array = np.random.randint(1,20, size = (3,4))\n",
    "print(my_array)\n",
    "print(\"std-dev:\")\n",
    "print(np.std(my_array, axis = 1))\n",
    "print(np.std(my_array, axis = 0))\n"
   ]
  },
  {
   "cell_type": "code",
   "execution_count": 3,
   "id": "a954191f",
   "metadata": {},
   "outputs": [
    {
     "name": "stdout",
     "output_type": "stream",
     "text": [
      "[1.  3.  0.  0.9 1.2]\n",
      "[-1.   0.5  0.2  0.6  5. ]\n",
      "correlation value:\n",
      "[7.04]\n"
     ]
    }
   ],
   "source": [
    "# Finally, to find correlations, you can use the correlation() method and pass it\n",
    "# the two NumPy arrays between which you want to find the correlation.\n",
    "\n",
    "a1 = np.array([1, 3, 0, 0.9, 1.2])\n",
    "a2 = np.array([-1, 0.5, 0.2, 0.6, 5])\n",
    "print(a1)\n",
    "print(a2)\n",
    "print(\"correlation value:\")\n",
    "print(np.correlate(a1, a2))"
   ]
  },
  {
   "cell_type": "code",
   "execution_count": 4,
   "id": "f5055987",
   "metadata": {},
   "outputs": [
    {
     "name": "stdout",
     "output_type": "stream",
     "text": [
      "[1 3 4 5 6 7 8 9]\n"
     ]
    }
   ],
   "source": [
    "# Oftentimes, you would need to find unique values within a NumPy array and\n",
    "# to find the count of every unique value in a NumPy array.\n",
    "# To find unique values in a NumPy array, you need to pass the array to the\n",
    "# unique() method from the NumPy module. Here is an example:\n",
    "\n",
    "my_array =np.array([5,8,7,5,9,3,7,7,1,1,8,4,6,9,7,3])\n",
    "unique_items = np.unique(my_array)\n",
    "print(unique_items)\n"
   ]
  },
  {
   "cell_type": "code",
   "execution_count": 5,
   "id": "a96ed990",
   "metadata": {},
   "outputs": [
    {
     "name": "stdout",
     "output_type": "stream",
     "text": [
      "[1 3 4 5 6 7 8 9]\n",
      "[2 2 1 2 1 4 2 2]\n"
     ]
    }
   ],
   "source": [
    "# To find the count of every unique item in a NumPy array, you need to pass\n",
    "# the array to the unique() method and pass True as the value for the\n",
    "# return_counts attribute. The unique() method in this case returns a tuple,\n",
    "# which contains a list of all unique items and a corresponding list of counts for\n",
    "# each unique item. Here is an example:\n",
    "\n",
    "my_array =np.array([5,8,7,5,9,3,7,7,1,1,8,4,6,9,7,3])\n",
    "unique_items, counts = np.unique(my_array, return_counts=True)\n",
    "print(unique_items)\n",
    "print(counts)\n"
   ]
  },
  {
   "cell_type": "code",
   "execution_count": 6,
   "id": "d9a587ff",
   "metadata": {},
   "outputs": [
    {
     "name": "stdout",
     "output_type": "stream",
     "text": [
      "[1 3 4 5 6 7 8 9]\n",
      "[2 2 1 2 1 4 2 2]\n",
      "[[1 3 4 5 6 7 8 9]\n",
      " [2 2 1 2 1 4 2 2]]\n"
     ]
    }
   ],
   "source": [
    "# One way to get the count value against every unique item is to create an array\n",
    "# of arrays where the first item is the list of unique items and the second item is\n",
    "# the list of counts, as shown in the script below:\n",
    "\n",
    "my_array =np.array([5,8,7,5,9,3,7,7,1,1,8,4,6,9,7,3])\n",
    "unique_items, counts = np.unique(my_array, return_counts=True)\n",
    "print(unique_items)\n",
    "print(counts)\n",
    "frequencies = np.asarray((unique_items, counts))\n",
    "print(frequencies)"
   ]
  },
  {
   "cell_type": "code",
   "execution_count": 7,
   "id": "cc376a60",
   "metadata": {},
   "outputs": [
    {
     "name": "stdout",
     "output_type": "stream",
     "text": [
      "[1 3 4 5 6 7 8 9]\n",
      "[2 2 1 2 1 4 2 2]\n",
      "[[1 2]\n",
      " [3 2]\n",
      " [4 1]\n",
      " [5 2]\n",
      " [6 1]\n",
      " [7 4]\n",
      " [8 2]\n",
      " [9 2]]\n"
     ]
    }
   ],
   "source": [
    "# Next, you can transpose the array that contains the list of unique items and\n",
    "# their counts. In the output, you will get an array where each item is a list. The\n",
    "# first item in the list is the unique item itself, while the second is the count of\n",
    "# the item. For instance, in the output of the script below, you can see that item\n",
    "# 1 occurs twice in the input array, item 3 also occurs twice, and so on.\n",
    "\n",
    "my_array =np.array([5,8,7,5,9,3,7,7,1,1,8,4,6,9,7,3])\n",
    "unique_items, counts = np.unique(my_array, return_counts=True)\n",
    "print(unique_items)\n",
    "print(counts)\n",
    "frequencies = np.asarray((unique_items, counts)).T\n",
    "print(frequencies)\n"
   ]
  },
  {
   "cell_type": "code",
   "execution_count": 8,
   "id": "d84eaffc",
   "metadata": {},
   "outputs": [
    {
     "name": "stdout",
     "output_type": "stream",
     "text": [
      "original\n",
      "[18 12  2  5 13  9  1 16 11 11]\n",
      "reversed\n",
      "[11 11 16  1  9 13  5  2 12 18]\n"
     ]
    }
   ],
   "source": [
    "# There are two main methods to reverse a NumPy array: flipud() and fliplr().\n",
    "# The flipud() method is used to reverse a one-dimensional NumPy array, as\n",
    "# shown in the script below:\n",
    "\n",
    "print(\"original\")\n",
    "my_array = np.random.randint(1,20,10)\n",
    "print(my_array)\n",
    "print(\"reversed\")\n",
    "reversed_array = np.flipud(my_array)\n",
    "print(reversed_array)"
   ]
  },
  {
   "cell_type": "code",
   "execution_count": 9,
   "id": "31dd6a70",
   "metadata": {},
   "outputs": [
    {
     "name": "stdout",
     "output_type": "stream",
     "text": [
      "original\n",
      "[[14 14 15 17]\n",
      " [ 9  6 13  5]\n",
      " [ 1 17 16 19]]\n",
      "reversed\n",
      "[[17 15 14 14]\n",
      " [ 5 13  6  9]\n",
      " [19 16 17  1]]\n"
     ]
    }
   ],
   "source": [
    "# On the other hand, to reverse a two-dimensional NumPy array, you can use\n",
    "# the fliplr() method, as shown below:\n",
    "\n",
    "print(\"original\")\n",
    "my_array = np.random.randint(1,20, size = (3,4))\n",
    "print(my_array)\n",
    "print(\"reversed\")\n",
    "reversed_array = np.fliplr(my_array)\n",
    "print(reversed_array)"
   ]
  },
  {
   "cell_type": "code",
   "execution_count": null,
   "id": "448aecad",
   "metadata": {},
   "outputs": [],
   "source": []
  }
 ],
 "metadata": {
  "kernelspec": {
   "display_name": "Python 3",
   "language": "python",
   "name": "python3"
  },
  "language_info": {
   "codemirror_mode": {
    "name": "ipython",
    "version": 3
   },
   "file_extension": ".py",
   "mimetype": "text/x-python",
   "name": "python",
   "nbconvert_exporter": "python",
   "pygments_lexer": "ipython3",
   "version": "3.8.8"
  }
 },
 "nbformat": 4,
 "nbformat_minor": 5
}
