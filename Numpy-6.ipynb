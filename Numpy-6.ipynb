{
 "cells": [
  {
   "cell_type": "code",
   "execution_count": 1,
   "id": "70384795",
   "metadata": {},
   "outputs": [
    {
     "name": "stdout",
     "output_type": "stream",
     "text": [
      "[[10 12]\n",
      " [45 32]\n",
      " [45 32]]\n"
     ]
    }
   ],
   "source": [
    "# the following script returns all the rows but only the first two\n",
    "# columns.\n",
    "import numpy as np\n",
    "row1 = [10,12,13]\n",
    "row2 = [45,32,16]\n",
    "row3 = [45,32,16]\n",
    "nums_2d = np.array([row1, row2, row3])\n",
    "print(nums_2d[:,:2])\n"
   ]
  },
  {
   "cell_type": "code",
   "execution_count": 2,
   "id": "4c4ec0e2",
   "metadata": {},
   "outputs": [
    {
     "name": "stdout",
     "output_type": "stream",
     "text": [
      "[[32 16]\n",
      " [32 16]]\n"
     ]
    }
   ],
   "source": [
    "# Let’s see another example of slicing. Here, we will slice the rows from row\n",
    "# one to the end of rows and column one to the end of columns. (Remember,\n",
    "# row and column numbers start from 0.) In the output, you will see the last\n",
    "# two rows and the last two columns.\n",
    "\n",
    "row1 = [10,12,13]\n",
    "row2 = [45,32,16]\n",
    "row3 = [45,32,16]\n",
    "nums_2d = np.array([row1, row2, row3])\n",
    "print(nums_2d[1:,1:])\n"
   ]
  },
  {
   "cell_type": "code",
   "execution_count": 3,
   "id": "3703df38",
   "metadata": {},
   "outputs": [
    {
     "name": "stdout",
     "output_type": "stream",
     "text": [
      "[24 35 41]\n"
     ]
    }
   ],
   "source": [
    "# Broadcasting allows you to perform various operations between NumPy\n",
    "# arrays of different shapes. This is best explained with the help of an example.\n",
    "# In the script below, you define two arrays: a one-dimensional array of three\n",
    "# items and another scaler array that contains only one item. Next, the two\n",
    "# arrays are added. Finally, in the output, you will see that the scaler value, i.e.,\n",
    "# 10 is added to all the items in the array that contains three items. This is an\n",
    "# amazing ability and is extremely useful in many scenarios, such as machine\n",
    "# learning and artificial neural networks.\n",
    "\n",
    "array1 = np.array ([14,25,31])\n",
    "array2 = np.array([10])\n",
    "result = array1 + array2\n",
    "print(result)"
   ]
  },
  {
   "cell_type": "code",
   "execution_count": 4,
   "id": "a95369ee",
   "metadata": {},
   "outputs": [
    {
     "name": "stdout",
     "output_type": "stream",
     "text": [
      "[[17  9  6 18]\n",
      " [19 13 11  9]\n",
      " [ 4 18  6 11]]\n",
      "after broadcasting\n",
      "[[27 19 16 28]\n",
      " [29 23 21 19]\n",
      " [14 28 16 21]]\n"
     ]
    }
   ],
   "source": [
    "# Let’s see another example of broadcasting. In the script below, you add a\n",
    "# two-dimensional array with three rows and four columns to a scaler array\n",
    "# with one item. In the output, you will see that the scaler value, i.e., 10, will be\n",
    "# added to all the 12 items in the first array, which contains three rows and four\n",
    "# columns.\n",
    "\n",
    "array1 = np.random.randint(1,20, size = (3,4))\n",
    "print(array1)\n",
    "array2 = np.array([10])\n",
    "print(\"after broadcasting\")\n",
    "result = array1 + array2\n",
    "print(result)"
   ]
  },
  {
   "cell_type": "code",
   "execution_count": 5,
   "id": "16eb87dd",
   "metadata": {},
   "outputs": [
    {
     "name": "stdout",
     "output_type": "stream",
     "text": [
      "[[18  7 17 13]\n",
      " [14  7  9 17]\n",
      " [19 19 18 15]]\n",
      "after broadcasting\n",
      "[[23 17 37 38]\n",
      " [19 17 29 42]\n",
      " [24 29 38 40]]\n"
     ]
    }
   ],
   "source": [
    "# You can also use broadcasting to perform operations between twodimensional\n",
    "# and one-dimensional arrays.\n",
    "# For example, the following script creates two arrays: a two-dimensional array\n",
    "# of three rows and four columns and a one-dimensional array of one row and\n",
    "# four columns. If you perform addition between these two rows, you will see\n",
    "# that the values in a one-dimensional array will be added to the corresponding\n",
    "# columns’ values in all the rows in the two-dimensional array.\n",
    "# For instance, the first row in the two-dimensional array contains values 4, 6,\n",
    "# 1, and 2. When you add the one-dimensional array with values 5, 10, 20, and\n",
    "# 25 to it, the first row of the two-dimensional array becomes 9, 16, 21, and 27.\n",
    "\n",
    "array1 = np.random.randint(1,20, size = (3,4))\n",
    "print(array1)\n",
    "array2 = np.array([5,10,20,25])\n",
    "print(\"after broadcasting\")\n",
    "result = array1 + array2\n",
    "print(result)"
   ]
  },
  {
   "cell_type": "code",
   "execution_count": 6,
   "id": "72a0444a",
   "metadata": {},
   "outputs": [
    {
     "name": "stdout",
     "output_type": "stream",
     "text": [
      "[[10 15  1  4]\n",
      " [ 8  5 17  7]\n",
      " [16  2  9 16]]\n",
      "after broadcasting\n",
      "[[15 20  6  9]\n",
      " [18 15 27 17]\n",
      " [36 22 29 36]]\n"
     ]
    }
   ],
   "source": [
    "# Finally, let’s see an example where an array with three rows and one column\n",
    "# is added to another array with three rows and four columns. Since, in this\n",
    "# case, the values of row match, therefore, in the output, for each column in the\n",
    "# two-dimensional array, the values from the one- dimensional array are added\n",
    "# row-wise. For instance, the first column in the two-dimensional array\n",
    "# contains the values 10, 19, and 11. When you add the one-dimensional array\n",
    "# (5, 10, 20) to it, the new column value becomes 15, 29, and 31.\n",
    "\n",
    "array1 = np.random.randint(1,20, size = (3,4))\n",
    "print(array1)\n",
    "array2 = np.array([[5],[10],[20]])\n",
    "print(\"after broadcasting\")\n",
    "result = array1 + array2\n",
    "print(result)\n"
   ]
  },
  {
   "cell_type": "code",
   "execution_count": 7,
   "id": "848e6c27",
   "metadata": {},
   "outputs": [
    {
     "name": "stdout",
     "output_type": "stream",
     "text": [
      "[10 12 14 16 18 20]\n",
      "[10 20 14 16 18 20]\n"
     ]
    }
   ],
   "source": [
    "# There are two main ways to copy an array in NumPy. You can either copy\n",
    "# the contents of the original array, or you can copy the reference to the\n",
    "# original array into another array.\n",
    "# To copy the contents of the original array into a new array, you can call the\n",
    "# copy() function on the original array. Now, if you modify the contents of the\n",
    "# new array, the contents of the original array are not modified.\n",
    "# For instance, in the script below, in the copied array2, the item at index 1 is\n",
    "# updated. However, when you print the original array, you see that the index\n",
    "# one for the original array is not modified.\n",
    "\n",
    "array1 = np.array([10,12,14,16,18,20])\n",
    "array2 = array1.copy()\n",
    "array2[1] = 20\n",
    "print(array1)\n",
    "print(array2)"
   ]
  },
  {
   "cell_type": "code",
   "execution_count": null,
   "id": "e3ac60c8",
   "metadata": {},
   "outputs": [],
   "source": []
  }
 ],
 "metadata": {
  "kernelspec": {
   "display_name": "Python 3",
   "language": "python",
   "name": "python3"
  },
  "language_info": {
   "codemirror_mode": {
    "name": "ipython",
    "version": 3
   },
   "file_extension": ".py",
   "mimetype": "text/x-python",
   "name": "python",
   "nbconvert_exporter": "python",
   "pygments_lexer": "ipython3",
   "version": "3.8.8"
  }
 },
 "nbformat": 4,
 "nbformat_minor": 5
}
