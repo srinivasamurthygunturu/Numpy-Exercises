{
 "cells": [
  {
   "cell_type": "code",
   "execution_count": 1,
   "id": "ccc394f7",
   "metadata": {},
   "outputs": [
    {
     "name": "stdout",
     "output_type": "stream",
     "text": [
      "a is:\n",
      "[0 1 2 3 4 1 2 3 4 5 2 3 4 5 6 3 4 5 6 7 4 5 6 7 8]\n",
      "the array is saved in the file.npy\n",
      "b is:\n",
      "[0 1 2 3 4 1 2 3 4 5 2 3 4 5 6 3 4 5 6 7 4 5 6 7 8]\n",
      "b is printed from file.npy\n"
     ]
    }
   ],
   "source": [
    "# To load a NumPy array in the “NPY” format, you can use the load() method,\n",
    "# as shown in the following example.\n",
    "import numpy as np\n",
    "a = np.array(([i + j for i in range(5)\n",
    "for j in range(5)]))\n",
    "# a is printed.\n",
    "print(\"a is:\")\n",
    "print(a)\n",
    "np.save('file', a)\n",
    "print(\"the array is saved in the file.npy\")\n",
    "# the array is saved in the file.npy\n",
    "b = np.load('file.npy')\n",
    "# the array is loaded into b\n",
    "print(\"b is:\")\n",
    "print(b)\n",
    "# b is printed from file.npy\n",
    "print(\"b is printed from file.npy\")"
   ]
  },
  {
   "cell_type": "code",
   "execution_count": 2,
   "id": "46150b74",
   "metadata": {},
   "outputs": [
    {
     "name": "stdout",
     "output_type": "stream",
     "text": [
      "[ 2  4  8 10 12]\n",
      "mean:\n",
      "7.2\n"
     ]
    }
   ],
   "source": [
    "# NumPy arrays contain various functionalities for performing statistical\n",
    "# operations, such as finding the mean, median, and standard deviations of\n",
    "# items in a NumPy array.\n",
    "# To find the mean or average of all the items in a NumPy array, you need to\n",
    "#pass the array to the mean() method of the NumPy module. Here is an\n",
    "# example:\n",
    "\n",
    "my_array = np.array([2,4,8,10,12])\n",
    "print(my_array)\n",
    "print(\"mean:\")\n",
    "print(np.mean(my_array))"
   ]
  },
  {
   "cell_type": "code",
   "execution_count": 3,
   "id": "60e5ee8f",
   "metadata": {},
   "outputs": [
    {
     "name": "stdout",
     "output_type": "stream",
     "text": [
      "[[18 10  7]\n",
      " [ 1 10  9]]\n",
      "mean:\n",
      "[11.66666667  6.66666667]\n",
      "[ 9.5 10.   8. ]\n"
     ]
    }
   ],
   "source": [
    "# You can also find the mean in a two-dimensional NumPy array across rows\n",
    "# and columns. To find the mean across columns, you need to pass 1 as the\n",
    "# value for the axis parameter of the mean method. Similarly, to find the mean\n",
    "# across rows, you need to pass 0 as the parameter value.\n",
    "# The following script finds the mean of a two-dimensional array containing\n",
    "# two rows and three columns across rows and columns.\n",
    "\n",
    "my_array = np.random.randint(1,20, size = (2,3))\n",
    "print(my_array)\n",
    "print(\"mean:\")\n",
    "print(np.mean(my_array, axis = 1))\n",
    "print(np.mean(my_array, axis = 0))\n"
   ]
  },
  {
   "cell_type": "code",
   "execution_count": 4,
   "id": "a7c135b1",
   "metadata": {},
   "outputs": [
    {
     "name": "stdout",
     "output_type": "stream",
     "text": [
      "[ 2  4  8 10 12]\n",
      "median:\n",
      "8.0\n"
     ]
    }
   ],
   "source": [
    "# The median() method from the NumPy module is used to find the median\n",
    "# value in a NumPy array. Here is an example.\n",
    "\n",
    "my_array = np.array([2,4,8,10,12])\n",
    "print(my_array)\n",
    "print(\"median:\")\n",
    "print(np.median(my_array))"
   ]
  },
  {
   "cell_type": "code",
   "execution_count": 5,
   "id": "1cc4143b",
   "metadata": {},
   "outputs": [
    {
     "name": "stdout",
     "output_type": "stream",
     "text": [
      "[[11 18 16  1 11]\n",
      " [ 1  4  7 13 17]\n",
      " [17 10  9 19  6]]\n",
      "median:\n",
      "[11.  7. 10.]\n",
      "[11. 10.  9. 13. 11.]\n"
     ]
    }
   ],
   "source": [
    "# Similarly, to find the median values across columns and rows in a twodimensional\n",
    "# array, you need to pass 1 and 0, respectively, as the values for\n",
    "# the axis attribute of the median method.\n",
    "# The following script finds the median values across rows and columns for a\n",
    "# two-dimensional array with three rows and five columns.\n",
    "\n",
    "my_array = np.random.randint(1,20, size = (3,5))\n",
    "print(my_array)\n",
    "print(\"median:\")\n",
    "print(np.median(my_array, axis = 1))\n",
    "print(np.median(my_array, axis = 0))"
   ]
  },
  {
   "cell_type": "code",
   "execution_count": 6,
   "id": "8ccee0f1",
   "metadata": {},
   "outputs": [
    {
     "name": "stdout",
     "output_type": "stream",
     "text": [
      "[ 2  4  8 10 12]\n",
      "min value:\n",
      "2\n"
     ]
    }
   ],
   "source": [
    "# The max() function returns the maximum value from the array, while the\n",
    "# min() function returns the minimum value.\n",
    "# The following script returns the minimum value in a NumPy array using the\n",
    "# min() method.\n",
    "\n",
    "my_array = np.array([2,4,8,10,12])\n",
    "print(my_array)\n",
    "print(\"min value:\")\n",
    "print(np.amin(my_array))"
   ]
  }
 ],
 "metadata": {
  "kernelspec": {
   "display_name": "Python 3",
   "language": "python",
   "name": "python3"
  },
  "language_info": {
   "codemirror_mode": {
    "name": "ipython",
    "version": 3
   },
   "file_extension": ".py",
   "mimetype": "text/x-python",
   "name": "python",
   "nbconvert_exporter": "python",
   "pygments_lexer": "ipython3",
   "version": "3.8.8"
  }
 },
 "nbformat": 4,
 "nbformat_minor": 5
}
