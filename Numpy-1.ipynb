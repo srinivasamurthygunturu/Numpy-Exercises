{
 "cells": [
  {
   "cell_type": "code",
   "execution_count": 1,
   "id": "d75add80",
   "metadata": {},
   "outputs": [
    {
     "name": "stdout",
     "output_type": "stream",
     "text": [
      "[10 12 14 16 20 25]\n",
      "int32\n",
      "4\n"
     ]
    }
   ],
   "source": [
    "import numpy as np\n",
    "my_array = np.array([10,12,14,16,20,25])\n",
    "print(my_array)\n",
    "print(my_array.dtype)\n",
    "print(my_array.dtype.itemsize)\n"
   ]
  },
  {
   "cell_type": "code",
   "execution_count": 3,
   "id": "d67a42b4",
   "metadata": {},
   "outputs": [
    {
     "name": "stdout",
     "output_type": "stream",
     "text": [
      "['Red' 'Green' 'Orange']\n",
      "<U6\n",
      "24\n"
     ]
    }
   ],
   "source": [
    "my_array = np.array([\"Red\", \"Green\", \"Orange\"])\n",
    "print(my_array)\n",
    "print(my_array.dtype)\n",
    "print(my_array.dtype.itemsize)\n"
   ]
  },
  {
   "cell_type": "code",
   "execution_count": 4,
   "id": "dc9ecc7a",
   "metadata": {},
   "outputs": [
    {
     "name": "stdout",
     "output_type": "stream",
     "text": [
      "['1990-10-04' '1989-05-06' '1990-11-04']\n",
      "<U10\n",
      "40\n"
     ]
    }
   ],
   "source": [
    "my_array = np.array([\"1990-10-04\", \"1989-05-06\", \"1990-11-04\"])\n",
    "print(my_array)\n",
    "print(my_array.dtype)\n",
    "print(my_array.dtype.itemsize)\n"
   ]
  },
  {
   "cell_type": "code",
   "execution_count": 5,
   "id": "f3be6e68",
   "metadata": {},
   "outputs": [
    {
     "name": "stdout",
     "output_type": "stream",
     "text": [
      "datetime64[D]\n",
      "8\n"
     ]
    }
   ],
   "source": [
    "my_array3 = my_array.astype(\"M\")\n",
    "print(my_array3.dtype)\n",
    "print(my_array3.dtype.itemsize)"
   ]
  },
  {
   "cell_type": "code",
   "execution_count": null,
   "id": "7e7b2eec",
   "metadata": {},
   "outputs": [],
   "source": []
  }
 ],
 "metadata": {
  "kernelspec": {
   "display_name": "Python 3",
   "language": "python",
   "name": "python3"
  },
  "language_info": {
   "codemirror_mode": {
    "name": "ipython",
    "version": 3
   },
   "file_extension": ".py",
   "mimetype": "text/x-python",
   "name": "python",
   "nbconvert_exporter": "python",
   "pygments_lexer": "ipython3",
   "version": "3.8.8"
  }
 },
 "nbformat": 4,
 "nbformat_minor": 5
}
