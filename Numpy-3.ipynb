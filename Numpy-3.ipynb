{
 "cells": [
  {
   "cell_type": "code",
   "execution_count": 1,
   "id": "de6d1a5a",
   "metadata": {},
   "outputs": [
    {
     "name": "stdout",
     "output_type": "stream",
     "text": [
      "[[ 5  2 10  7  5]\n",
      " [10  9  8  4  3]\n",
      " [ 3  9  8  6  6]\n",
      " [ 1 10  2  4  1]]\n"
     ]
    }
   ],
   "source": [
    "# The following script creates a two-dimensional NumPy array with four rows\n",
    "# and five columns. The array contains random integers between 1 and 10. The\n",
    "# array is then printed on the console.\n",
    "import numpy as np\n",
    "integer_random = np.random.randint(1,11, size=(4, 5))\n",
    "print(integer_random)"
   ]
  },
  {
   "cell_type": "code",
   "execution_count": 2,
   "id": "779eaed9",
   "metadata": {},
   "outputs": [
    {
     "name": "stdout",
     "output_type": "stream",
     "text": [
      "2\n",
      "(4, 5)\n"
     ]
    }
   ],
   "source": [
    "# Let’s now try to see the number of dimensions and shape of our NumPy\n",
    "# array.\n",
    "\n",
    "print(integer_random.ndim)\n",
    "print(integer_random.shape)\n"
   ]
  },
  {
   "cell_type": "code",
   "execution_count": 3,
   "id": "3dcb174d",
   "metadata": {},
   "outputs": [
    {
     "name": "stdout",
     "output_type": "stream",
     "text": [
      "10\n",
      "12\n",
      "14\n",
      "16\n",
      "20\n",
      "25\n"
     ]
    }
   ],
   "source": [
    "# To traverse through items in a two-dimensional NumPy array, you need two\n",
    "# for each loops: one for each row and the other for each column in the row.\n",
    "# Let’s first use one for loop to print items in our two-dimensional NumPy\n",
    "# array.\n",
    "\n",
    "my_array = np.array([10,12,14,16,20,25])\n",
    "for i in my_array:\n",
    "    print(i)"
   ]
  },
  {
   "cell_type": "code",
   "execution_count": 4,
   "id": "ec226da9",
   "metadata": {},
   "outputs": [
    {
     "name": "stdout",
     "output_type": "stream",
     "text": [
      "5\n",
      "2\n",
      "10\n",
      "7\n",
      "5\n",
      "10\n",
      "9\n",
      "8\n",
      "4\n",
      "3\n",
      "3\n",
      "9\n",
      "8\n",
      "6\n",
      "6\n",
      "1\n",
      "10\n",
      "2\n",
      "4\n",
      "1\n"
     ]
    }
   ],
   "source": [
    "# To traverse through all the items in the two-dimensional array, you can use\n",
    "# the nested foreach loop, as follows:\n",
    "\n",
    "for rows in integer_random:\n",
    "    for column in rows:\n",
    "        print(column)\n"
   ]
  },
  {
   "cell_type": "code",
   "execution_count": 5,
   "id": "1def2c33",
   "metadata": {},
   "outputs": [
    {
     "name": "stdout",
     "output_type": "stream",
     "text": [
      "['Red' 'Green' 'Orange']\n",
      "['Red' 'Green' 'Orange' 'Yellow']\n"
     ]
    }
   ],
   "source": [
    "# To add the items into a NumPy array, you can use the append() method from\n",
    "# the NumPy module. First, you need to pass the original array and the item\n",
    "# that you want to append to the array to the append() method. The append()\n",
    "# method returns a new array that contains newly added items appended to the\n",
    "# end of the original array. The following script adds a text item “Yellow”\n",
    "# to an existing array with three items.\n",
    "\n",
    "my_array = np.array([\"Red\", \"Green\", \"Orange\"])\n",
    "print(my_array)\n",
    "extended = np.append(my_array, \"Yellow\")\n",
    "print(extended)"
   ]
  },
  {
   "cell_type": "code",
   "execution_count": 6,
   "id": "0aa9739c",
   "metadata": {},
   "outputs": [
    {
     "name": "stdout",
     "output_type": "stream",
     "text": [
      "['Red' 'Green' 'Orange']\n",
      "['Red' 'Green' 'Orange' 'Yellow' 'Pink']\n"
     ]
    }
   ],
   "source": [
    "# In addition to adding one item at a time, you can also append an array of\n",
    "# items to an existing array. The method remains similar to appending a single\n",
    "# item. You just have to pass the existing array and the new array to the\n",
    "# append() method, which returns a concatenated array where items from the\n",
    "# new array are appended at the end of the original array.\n",
    "\n",
    "my_array = np.array([\"Red\", \"Green\", \"Orange\"])\n",
    "print(my_array)\n",
    "extended = np.append(my_array, [\"Yellow\", \"Pink\"])\n",
    "print(extended)\n"
   ]
  },
  {
   "cell_type": "code",
   "execution_count": 7,
   "id": "44f8b2a3",
   "metadata": {},
   "outputs": [
    {
     "name": "stdout",
     "output_type": "stream",
     "text": [
      "[[0. 0. 0.]\n",
      " [0. 0. 0.]\n",
      " [0. 0. 0.]]\n"
     ]
    }
   ],
   "source": [
    "# To add items in a two-dimensional NumPy array, you have to specify\n",
    "# whether you want to add the new item as a row or as a column. To do so, you\n",
    "# can take the help of the axis attribute of the append method.\n",
    "# Let’s first create a 3 x 3 array of all zeros.\n",
    "\n",
    "zeros_array = np.zeros((3,3))\n",
    "print(zeros_array)\n"
   ]
  },
  {
   "cell_type": "code",
   "execution_count": 8,
   "id": "d94500d8",
   "metadata": {},
   "outputs": [
    {
     "name": "stdout",
     "output_type": "stream",
     "text": [
      "[[0. 0. 0.]\n",
      " [0. 0. 0.]\n",
      " [0. 0. 0.]]\n",
      "Extended Array\n",
      "[[0. 0. 0.]\n",
      " [0. 0. 0.]\n",
      " [0. 0. 0.]\n",
      " [1. 2. 3.]]\n"
     ]
    }
   ],
   "source": [
    "# To add a new row in the above 3 x 3 array, you need to pass the original array\n",
    "# to the new array in the form of a row vector and the axis attribute to the\n",
    "# append() method. To add a new array in the form of a row, you need to set 0\n",
    "# as the value for the axis attribute. Here is an example script.\n",
    "\n",
    "zeros_array = np.zeros((3,3))\n",
    "print(zeros_array)\n",
    "print(\"Extended Array\")\n",
    "extended = np.append(zeros_array, [[1, 2, 3]], axis = 0)\n",
    "print(extended)"
   ]
  },
  {
   "cell_type": "code",
   "execution_count": 9,
   "id": "5839f385",
   "metadata": {},
   "outputs": [
    {
     "name": "stdout",
     "output_type": "stream",
     "text": [
      "[[0. 0. 0.]\n",
      " [0. 0. 0.]\n",
      " [0. 0. 0.]]\n",
      "Extended Array\n",
      "[[0. 0. 0. 1.]\n",
      " [0. 0. 0. 2.]\n",
      " [0. 0. 0. 3.]]\n"
     ]
    }
   ],
   "source": [
    "# To append a new array as a column in the existing 2-D array, you need to set\n",
    "# the value of the axis attribute to 1.\n",
    "\n",
    "zeros_array = np.zeros((3,3))\n",
    "print(zeros_array)\n",
    "print(\"Extended Array\")\n",
    "extended = np.append(zeros_array, [[1],[2],[3]], axis = 1)\n",
    "print(extended)\n"
   ]
  },
  {
   "cell_type": "code",
   "execution_count": 10,
   "id": "7a58756b",
   "metadata": {},
   "outputs": [
    {
     "name": "stdout",
     "output_type": "stream",
     "text": [
      "['Red' 'Green' 'Orange']\n",
      "After deletion\n",
      "['Red' 'Orange']\n"
     ]
    }
   ],
   "source": [
    "# To delete an item from an array, you may use the delete() method. You need\n",
    "# to pass the existing array and the index of the item to be deleted to the\n",
    "# delete() method. The following script deletes an item at index 1 (second item)\n",
    "# from the my_array array.\n",
    "\n",
    "my_array = np.array([\"Red\", \"Green\", \"Orange\"])\n",
    "print(my_array)\n",
    "print(\"After deletion\")\n",
    "updated_array = np.delete(my_array, 1)\n",
    "print(updated_array)"
   ]
  },
  {
   "cell_type": "code",
   "execution_count": null,
   "id": "8d454859",
   "metadata": {},
   "outputs": [],
   "source": []
  }
 ],
 "metadata": {
  "kernelspec": {
   "display_name": "Python 3",
   "language": "python",
   "name": "python3"
  },
  "language_info": {
   "codemirror_mode": {
    "name": "ipython",
    "version": 3
   },
   "file_extension": ".py",
   "mimetype": "text/x-python",
   "name": "python",
   "nbconvert_exporter": "python",
   "pygments_lexer": "ipython3",
   "version": "3.8.8"
  }
 },
 "nbformat": 4,
 "nbformat_minor": 5
}
