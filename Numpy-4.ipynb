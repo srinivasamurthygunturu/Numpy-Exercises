{
 "cells": [
  {
   "cell_type": "code",
   "execution_count": 1,
   "id": "8107c401",
   "metadata": {},
   "outputs": [
    {
     "name": "stdout",
     "output_type": "stream",
     "text": [
      "['Red' 'Green' 'Orange']\n",
      "After deletion\n",
      "['Red']\n"
     ]
    }
   ],
   "source": [
    "# If you want to delete multiple items from an array, you can pass the item\n",
    "# indexes in the form of a list to the delete() method. For example, the\n",
    "# following script deletes the items at index 1 and 2 from the NumPy array\n",
    "# named my_array.\n",
    "\n",
    "import numpy as np\n",
    "my_array = np.array([\"Red\", \"Green\", \"Orange\"])\n",
    "print(my_array)\n",
    "print(\"After deletion\")\n",
    "updated_array = np.delete(my_array, [1,2])\n",
    "print(updated_array)\n"
   ]
  },
  {
   "cell_type": "code",
   "execution_count": 2,
   "id": "83db4b76",
   "metadata": {},
   "outputs": [
    {
     "name": "stdout",
     "output_type": "stream",
     "text": [
      "[[ 9  2 10 10  1]\n",
      " [10  3 10  9  9]\n",
      " [ 1  2  8  7  2]\n",
      " [ 9  1  5  6  5]]\n",
      "After deletion\n",
      "[[ 9  2 10 10  1]\n",
      " [ 1  2  8  7  2]\n",
      " [ 9  1  5  6  5]]\n"
     ]
    }
   ],
   "source": [
    "# You can delete a row or column from a 2-D array using the delete method.\n",
    "# However, just as you did with the append() method for adding items, you\n",
    "# need to specify whether you want to delete a row or column using the axis\n",
    "# attribute.\n",
    "# The following script creates an integer array with four rows and five\n",
    "# columns. Next, the delete() method is used to delete the row at index 1\n",
    "# (second row). Notice here that to delete the array, the value of the axis\n",
    "# attribute is set to 0.\n",
    "\n",
    "integer_random = np.random.randint(1,11, size=(4, 5))\n",
    "print(integer_random)\n",
    "print(\"After deletion\")\n",
    "updated_array = np.delete(integer_random, 1, axis = 0)\n",
    "print(updated_array)"
   ]
  },
  {
   "cell_type": "code",
   "execution_count": 3,
   "id": "2eeedd69",
   "metadata": {},
   "outputs": [
    {
     "name": "stdout",
     "output_type": "stream",
     "text": [
      "[[ 4  2  9  6  1]\n",
      " [ 9 10  9  4  4]\n",
      " [ 9  5  3  6  5]\n",
      " [ 1  6  1  8  4]]\n",
      "After deletion\n",
      "[[4 9 6 1]\n",
      " [9 9 4 4]\n",
      " [9 3 6 5]\n",
      " [1 1 8 4]]\n"
     ]
    }
   ],
   "source": [
    "# Finally, to delete a column, you can set the value of the axis attribute to 1, as\n",
    "# shown below:\n",
    "\n",
    "integer_random = np.random.randint(1,11, size=(4, 5))\n",
    "print(integer_random)\n",
    "print(\"After deletion\")\n",
    "updated_array = np.delete(integer_random, 1, axis = 1)\n",
    "print(updated_array)\n"
   ]
  },
  {
   "cell_type": "code",
   "execution_count": 4,
   "id": "62799ecd",
   "metadata": {},
   "outputs": [
    {
     "name": "stdout",
     "output_type": "stream",
     "text": [
      "unsorted array\n",
      "[ 4 13 16 10  1  1 12 17  1 14]\n",
      "\n",
      "sorted array\n",
      "[ 1  1  1  4 10 12 13 14 16 17]\n"
     ]
    }
   ],
   "source": [
    "# You can sort NumPy arrays of various types. Numeric arrays are sorted by\n",
    "# default in ascending order of numbers. On the other hand, text arrays are\n",
    "# sorted alphabetically.\n",
    "# To sort an array in NumPy, you may call the np.sort() function and pass it to\n",
    "# your NumPy array. The following script shows how to sort a NumPy array of\n",
    "# 10 random integers between 1 and 20.\n",
    "\n",
    "print(\"unsorted array\")\n",
    "my_array = np.random.randint(1,20,10)\n",
    "print(my_array)\n",
    "print(\"\\nsorted array\")\n",
    "sorted_array = np.sort(my_array)\n",
    "print(sorted_array)"
   ]
  },
  {
   "cell_type": "code",
   "execution_count": 5,
   "id": "f04b5128",
   "metadata": {},
   "outputs": [
    {
     "name": "stdout",
     "output_type": "stream",
     "text": [
      "unsorted array\n",
      "['Red' 'Green' 'Blue' 'Yellow']\n",
      "\n",
      "sorted array\n",
      "['Blue' 'Green' 'Red' 'Yellow']\n"
     ]
    }
   ],
   "source": [
    "# As mentioned earlier, text arrays are sorted in alphabetical order. Here is an\n",
    "# example of how you can sort a text array with the NumPy sort() method.\n",
    "\n",
    "print(\"unsorted array\")\n",
    "my_array = np.array([\"Red\", \"Green\", \"Blue\", \"Yellow\"])\n",
    "print(my_array)\n",
    "print(\"\\nsorted array\")\n",
    "sorted_array = np.sort(my_array)\n",
    "print(sorted_array)"
   ]
  },
  {
   "cell_type": "code",
   "execution_count": 6,
   "id": "e858e9c9",
   "metadata": {},
   "outputs": [
    {
     "name": "stdout",
     "output_type": "stream",
     "text": [
      "unsorted array\n",
      "[False  True  True False False  True False  True]\n",
      "\n",
      "Sorted array\n",
      "[False False False False  True  True  True  True]\n"
     ]
    }
   ],
   "source": [
    "# Finally, Boolean arrays are sorted in a way that all the False values appear\n",
    "# first in an array. Here is an example of how you can sort the Boolean arrays\n",
    "# in NumPy.\n",
    "\n",
    "print(\"unsorted array\")\n",
    "my_array = np.array([False, True, True, False, False, True, False, True])\n",
    "print(my_array)\n",
    "print(\"\\nSorted array\")\n",
    "sorted_array = np.sort(my_array)\n",
    "print(sorted_array)"
   ]
  },
  {
   "cell_type": "code",
   "execution_count": 7,
   "id": "e2ea4f6a",
   "metadata": {},
   "outputs": [
    {
     "name": "stdout",
     "output_type": "stream",
     "text": [
      "unsorted array\n",
      "[[ 5  3  6 19  2  5]\n",
      " [16 10  3 10  1  5]\n",
      " [ 1 17 10 10  4 15]\n",
      " [ 6 12  8  9  9  3]]\n",
      "Sorted array\n",
      "[[ 2  3  5  5  6 19]\n",
      " [ 1  3  5 10 10 16]\n",
      " [ 1  4 10 10 15 17]\n",
      " [ 3  6  8  9  9 12]]\n"
     ]
    }
   ],
   "source": [
    "# NumPy also allows you to sort two-dimensional arrays. In two-dimensional\n",
    "# arrays, each item itself is an array. The sort() function sorts an item in each\n",
    "# individual array in a two-dimensional array.\n",
    "# The script below creates a two-dimensional array of shape (4,6) containing\n",
    "# random integers between 1 to 20. The array is then sorted via the np.sort()\n",
    "# method.\n",
    "\n",
    "print(\"unsorted array\")\n",
    "my_array = np.random.randint(1,20, size = (4,6))\n",
    "print(my_array)\n",
    "print(\"Sorted array\")\n",
    "sorted_array = np.sort(my_array)\n",
    "print(sorted_array)\n"
   ]
  },
  {
   "cell_type": "code",
   "execution_count": 8,
   "id": "e0db4612",
   "metadata": {},
   "outputs": [
    {
     "name": "stdout",
     "output_type": "stream",
     "text": [
      "unsorted array\n",
      "[19 12 14 16  1  4 18  6  3  9]\n",
      "\n",
      "sorted array\n",
      "[19 18 16 14 12  9  6  4  3  1]\n"
     ]
    }
   ],
   "source": [
    "# You can also sort an array in descending order. To do so, you can first sort an\n",
    "# array in ascending order via the sort() method. Next, you can pass the sorted\n",
    "# array to the flipud() method, which reverses the sorted array and returns the\n",
    "# array sorted in descending order. Here is an example of how you can sort an\n",
    "# array in descending order.\n",
    "\n",
    "print(\"unsorted array\")\n",
    "my_array = np.random.randint(1,20,10)\n",
    "print(my_array)\n",
    "print(\"\\nsorted array\")\n",
    "sorted_array = np.sort(my_array)\n",
    "reverse_sorted = np.flipud(sorted_array)\n",
    "print(reverse_sorted)"
   ]
  },
  {
   "cell_type": "code",
   "execution_count": 9,
   "id": "701f7831",
   "metadata": {},
   "outputs": [
    {
     "name": "stdout",
     "output_type": "stream",
     "text": [
      "one-dimensional array\n",
      "[19 13  2  8  5  2 13 19 15 12]\n",
      "\n",
      "two-dimensional array\n",
      "[[19 13  2  8  5]\n",
      " [ 2 13 19 15 12]]\n"
     ]
    }
   ],
   "source": [
    "# You can also modify the shape of a NumPy array. To do so, you can use the\n",
    "# reshape() method and pass it the new shape for your NumPy array.\n",
    "# In this section, you will see how to reshape a NumPy array from lower to\n",
    "# higher dimensions and vice versa.\n",
    "# The following script defines a one-dimensional array of 10 random integers\n",
    "# between 1 and 20. The reshape() function reshapes the array into the shape\n",
    "# (2,5).\n",
    "\n",
    "print(\"one-dimensional array\")\n",
    "one_d_array = np.random.randint(1,20,10)\n",
    "print(one_d_array)\n",
    "print(\"\\ntwo-dimensional array\")\n",
    "two_d_array = one_d_array.reshape(2,5)\n",
    "print(two_d_array)\n"
   ]
  },
  {
   "cell_type": "code",
   "execution_count": 10,
   "id": "49c4e86f",
   "metadata": {},
   "outputs": [
    {
     "name": "stdout",
     "output_type": "stream",
     "text": [
      "one-dimensional array\n",
      "[ 5  6  3 16  7 10 12  7  2 13]\n",
      "\n",
      "two-dimensional array\n",
      "[[ 5  6  3 16  7]\n",
      " [10 12  7  2 13]]\n"
     ]
    }
   ],
   "source": [
    "# It is important to mention that the product of the rows and columns of the\n",
    "# original array must match the value of the product of rows and columns of\n",
    "# the reshaped array. For instance, the shape of the original array in the last\n",
    "# script was (10,) with product 10. The product of the rows and columns in the\n",
    "# reshaped array was also 10 (2 x 5)\n",
    "# You can also call the reshape() function directly from the NumPy module and\n",
    "# pass it the array to be reshaped as the first argument and the shape tuple as\n",
    "# the second argument. Here is an example which converts an array of shape\n",
    "# (10,) to (2,5).\n",
    "\n",
    "print(\"one-dimensional array\")\n",
    "one_d_array = np.random.randint(1,20,10)\n",
    "print(one_d_array)\n",
    "print(\"\\ntwo-dimensional array\")\n",
    "two_d_array = np.reshape(one_d_array,(2,5))\n",
    "print(two_d_array)"
   ]
  },
  {
   "cell_type": "code",
   "execution_count": null,
   "id": "4b92dc23",
   "metadata": {},
   "outputs": [],
   "source": []
  }
 ],
 "metadata": {
  "kernelspec": {
   "display_name": "Python 3",
   "language": "python",
   "name": "python3"
  },
  "language_info": {
   "codemirror_mode": {
    "name": "ipython",
    "version": 3
   },
   "file_extension": ".py",
   "mimetype": "text/x-python",
   "name": "python",
   "nbconvert_exporter": "python",
   "pygments_lexer": "ipython3",
   "version": "3.8.8"
  }
 },
 "nbformat": 4,
 "nbformat_minor": 5
}
