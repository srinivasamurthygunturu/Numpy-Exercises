{
 "cells": [
  {
   "cell_type": "code",
   "execution_count": 1,
   "id": "ac396943",
   "metadata": {},
   "outputs": [
    {
     "name": "stdout",
     "output_type": "stream",
     "text": [
      "two-dimensional array\n",
      "[[13  1  2 11 13  2]\n",
      " [ 3 12 19 10 14 12]\n",
      " [19  2 19  6 11 17]\n",
      " [ 5  9 17 10  7  9]]\n",
      "\n",
      "three-dimensional array\n",
      "[[[13  1]\n",
      "  [ 2 11]\n",
      "  [13  2]\n",
      "  [ 3 12]]\n",
      "\n",
      " [[19 10]\n",
      "  [14 12]\n",
      "  [19  2]\n",
      "  [19  6]]\n",
      "\n",
      " [[11 17]\n",
      "  [ 5  9]\n",
      "  [17 10]\n",
      "  [ 7  9]]]\n"
     ]
    }
   ],
   "source": [
    "# Let’s see another example of reshaping a NumPy array from lower to higher\n",
    "# dimensions. The following script defines a NumPy array of shape (4,6). The original ar\n",
    "# is then reshaped to a three-dimensional array of shape (3, 4, 2). Notice here\n",
    "# again that the product of dimensions of the original array (4 x 6) and the\n",
    "# reshaped array (3 x 4 x 2) is the same, i.e., 24.\n",
    "import numpy as np\n",
    "print(\"two-dimensional array\")\n",
    "two_d_array = np.random.randint(1,20, size = (4,6))\n",
    "print(two_d_array)\n",
    "print(\"\\nthree-dimensional array\")\n",
    "three_d_array = np.reshape(two_d_array,(3,4,2))\n",
    "print(three_d_array)"
   ]
  },
  {
   "cell_type": "code",
   "execution_count": 18,
   "id": "30ef8157",
   "metadata": {},
   "outputs": [
    {
     "name": "stdout",
     "output_type": "stream",
     "text": [
      "two-dimensional array\n",
      "[[ 6  4 15 19 13 10]\n",
      " [ 1 10 12 17 19  9]\n",
      " [ 9 12  8  8  6  5]\n",
      " [15  5  5  1  1 10]]\n",
      "\n",
      "three-dimensional array\n"
     ]
    },
    {
     "ename": "ValueError",
     "evalue": "cannot reshape array of size 24 into shape (1,4,2)",
     "output_type": "error",
     "traceback": [
      "\u001b[1;31m---------------------------------------------------------------------------\u001b[0m",
      "\u001b[1;31mValueError\u001b[0m                                Traceback (most recent call last)",
      "\u001b[1;32m<ipython-input-18-20c1fd469b3f>\u001b[0m in \u001b[0;36m<module>\u001b[1;34m\u001b[0m\n\u001b[0;32m      9\u001b[0m \u001b[0mprint\u001b[0m\u001b[1;33m(\u001b[0m\u001b[0mtwo_d_array\u001b[0m\u001b[1;33m)\u001b[0m\u001b[1;33m\u001b[0m\u001b[1;33m\u001b[0m\u001b[0m\n\u001b[0;32m     10\u001b[0m \u001b[0mprint\u001b[0m\u001b[1;33m(\u001b[0m\u001b[1;34m\"\\nthree-dimensional array\"\u001b[0m\u001b[1;33m)\u001b[0m\u001b[1;33m\u001b[0m\u001b[1;33m\u001b[0m\u001b[0m\n\u001b[1;32m---> 11\u001b[1;33m \u001b[0mthree_d_array\u001b[0m \u001b[1;33m=\u001b[0m \u001b[0mnp\u001b[0m\u001b[1;33m.\u001b[0m\u001b[0mreshape\u001b[0m\u001b[1;33m(\u001b[0m\u001b[0mtwo_d_array\u001b[0m\u001b[1;33m,\u001b[0m\u001b[1;33m(\u001b[0m\u001b[1;36m1\u001b[0m\u001b[1;33m,\u001b[0m\u001b[1;36m4\u001b[0m\u001b[1;33m,\u001b[0m\u001b[1;36m2\u001b[0m\u001b[1;33m)\u001b[0m\u001b[1;33m)\u001b[0m\u001b[1;33m\u001b[0m\u001b[1;33m\u001b[0m\u001b[0m\n\u001b[0m\u001b[0;32m     12\u001b[0m \u001b[0mprint\u001b[0m\u001b[1;33m(\u001b[0m\u001b[0mthree_d_array\u001b[0m\u001b[1;33m)\u001b[0m\u001b[1;33m\u001b[0m\u001b[1;33m\u001b[0m\u001b[0m\n",
      "\u001b[1;32m<__array_function__ internals>\u001b[0m in \u001b[0;36mreshape\u001b[1;34m(*args, **kwargs)\u001b[0m\n",
      "\u001b[1;32m~\\anaconda3\\lib\\site-packages\\numpy\\core\\fromnumeric.py\u001b[0m in \u001b[0;36mreshape\u001b[1;34m(a, newshape, order)\u001b[0m\n\u001b[0;32m    297\u001b[0m            [5, 6]])\n\u001b[0;32m    298\u001b[0m     \"\"\"\n\u001b[1;32m--> 299\u001b[1;33m     \u001b[1;32mreturn\u001b[0m \u001b[0m_wrapfunc\u001b[0m\u001b[1;33m(\u001b[0m\u001b[0ma\u001b[0m\u001b[1;33m,\u001b[0m \u001b[1;34m'reshape'\u001b[0m\u001b[1;33m,\u001b[0m \u001b[0mnewshape\u001b[0m\u001b[1;33m,\u001b[0m \u001b[0morder\u001b[0m\u001b[1;33m=\u001b[0m\u001b[0morder\u001b[0m\u001b[1;33m)\u001b[0m\u001b[1;33m\u001b[0m\u001b[1;33m\u001b[0m\u001b[0m\n\u001b[0m\u001b[0;32m    300\u001b[0m \u001b[1;33m\u001b[0m\u001b[0m\n\u001b[0;32m    301\u001b[0m \u001b[1;33m\u001b[0m\u001b[0m\n",
      "\u001b[1;32m~\\anaconda3\\lib\\site-packages\\numpy\\core\\fromnumeric.py\u001b[0m in \u001b[0;36m_wrapfunc\u001b[1;34m(obj, method, *args, **kwds)\u001b[0m\n\u001b[0;32m     56\u001b[0m \u001b[1;33m\u001b[0m\u001b[0m\n\u001b[0;32m     57\u001b[0m     \u001b[1;32mtry\u001b[0m\u001b[1;33m:\u001b[0m\u001b[1;33m\u001b[0m\u001b[1;33m\u001b[0m\u001b[0m\n\u001b[1;32m---> 58\u001b[1;33m         \u001b[1;32mreturn\u001b[0m \u001b[0mbound\u001b[0m\u001b[1;33m(\u001b[0m\u001b[1;33m*\u001b[0m\u001b[0margs\u001b[0m\u001b[1;33m,\u001b[0m \u001b[1;33m**\u001b[0m\u001b[0mkwds\u001b[0m\u001b[1;33m)\u001b[0m\u001b[1;33m\u001b[0m\u001b[1;33m\u001b[0m\u001b[0m\n\u001b[0m\u001b[0;32m     59\u001b[0m     \u001b[1;32mexcept\u001b[0m \u001b[0mTypeError\u001b[0m\u001b[1;33m:\u001b[0m\u001b[1;33m\u001b[0m\u001b[1;33m\u001b[0m\u001b[0m\n\u001b[0;32m     60\u001b[0m         \u001b[1;31m# A TypeError occurs if the object does have such a method in its\u001b[0m\u001b[1;33m\u001b[0m\u001b[1;33m\u001b[0m\u001b[1;33m\u001b[0m\u001b[0m\n",
      "\u001b[1;31mValueError\u001b[0m: cannot reshape array of size 24 into shape (1,4,2)"
     ]
    }
   ],
   "source": [
    "# Let’s try to reshape a NumPy array in a way that the product of dimensions\n",
    "# does not match. In the script below, the shape of the original array is (4,6).\n",
    "# Next, you try to reshape this array to the shape (1,4,2). In this case, since\n",
    "# the product of dimensions of the original and the reshaped array don’t match,\n",
    "# you will see an error in the output.\n",
    "\n",
    "print(\"two-dimensional array\")\n",
    "two_d_array = np.random.randint(1,20, size = (4,6))\n",
    "print(two_d_array)\n",
    "print(\"\\nthree-dimensional array\")\n",
    "three_d_array = np.reshape(two_d_array,(1,4,2))\n",
    "print(three_d_array)"
   ]
  },
  {
   "cell_type": "code",
   "execution_count": 17,
   "id": "4c5c5eba",
   "metadata": {},
   "outputs": [
    {
     "name": "stdout",
     "output_type": "stream",
     "text": [
      "two-dimensional array\n",
      "[[ 3 10 15  5 15 17]\n",
      " [19 17 14  7 11 18]\n",
      " [10 17  2 19 16 18]\n",
      " [ 3  3 11  3 10 17]]\n",
      "\n",
      "one-dimensional array\n",
      "[ 3 10 15  5 15 17 19 17 14  7 11 18 10 17  2 19 16 18  3  3 11  3 10 17]\n"
     ]
    }
   ],
   "source": [
    "# Let’s now see a few examples of reshaping NumPy arrays from higher to\n",
    "# lower dimensions. In the script below, the original array is of shape (4,6)\n",
    "# while the new array is of shape (24). The reshaping, in this case, will be successful\n",
    "# since the product of dimensions for original and reshaped arrays is the same.\n",
    "\n",
    "print(\"two-dimensional array\")\n",
    "two_d_array = np.random.randint(1,20, size = (4,6))\n",
    "print(two_d_array)\n",
    "print(\"\\none-dimensional array\")\n",
    "one_d_array = two_d_array.reshape(24)\n",
    "print(one_d_array)\n"
   ]
  },
  {
   "cell_type": "code",
   "execution_count": 16,
   "id": "be58959b",
   "metadata": {},
   "outputs": [
    {
     "name": "stdout",
     "output_type": "stream",
     "text": [
      "two-dimensional array\n",
      "[[ 9 14  8 11  9 14]\n",
      " [ 6 17 11  7  5  3]\n",
      " [15  6 15 19 17 19]\n",
      " [ 4 16 18 10 11 16]]\n",
      "\n",
      "one-dimensional array\n",
      "[ 9 14  8 11  9 14  6 17 11  7  5  3 15  6 15 19 17 19  4 16 18 10 11 16]\n"
     ]
    }
   ],
   "source": [
    "# Finally, to convert an array of any dimensions to a flat, one-dimensional\n",
    "# array, you will need to pass —1 as the argument for the reshaped function, as\n",
    "# shown in the script below, which converts a two-dimensional array to a one dimensional\n",
    "# array.\n",
    "\n",
    "print(\"two-dimensional array\")\n",
    "two_d_array = np.random.randint(1,20, size = (4,6))\n",
    "print(two_d_array)\n",
    "print(\"\\none-dimensional array\")\n",
    "one_d_array = two_d_array.reshape(-1)\n",
    "print(one_d_array)"
   ]
  },
  {
   "cell_type": "code",
   "execution_count": 15,
   "id": "af22cfb9",
   "metadata": {},
   "outputs": [
    {
     "name": "stdout",
     "output_type": "stream",
     "text": [
      "two-dimensional array\n",
      "[[[10 19 11  3  1  8]\n",
      "  [ 7  9 17  3 14 17]]\n",
      "\n",
      " [[ 7  1 13  3 15  8]\n",
      "  [ 1  2 18  7 11  4]]\n",
      "\n",
      " [[ 1  6  6  4  3  7]\n",
      "  [ 6 17  6 19 15  3]]\n",
      "\n",
      " [[ 5 18 10 15 19 10]\n",
      "  [18  7 17  4  9  2]]]\n",
      "\n",
      "on-dimensional array\n",
      "[10 19 11  3  1  8  7  9 17  3 14 17  7  1 13  3 15  8  1  2 18  7 11  4\n",
      "  1  6  6  4  3  7  6 17  6 19 15  3  5 18 10 15 19 10 18  7 17  4  9  2]\n"
     ]
    }
   ],
   "source": [
    "# Similarly, the following script converts a three-dimensional array to a one dimensiona\n",
    "# array.\n",
    "\n",
    "print(\"two-dimensional array\")\n",
    "three_d_array = np.random.randint(1,20, size = (4,2,6))\n",
    "print(three_d_array)\n",
    "print(\"\\non-dimensional array\")\n",
    "one_d_array = three_d_array .reshape(-1)\n",
    "print(one_d_array)\n"
   ]
  },
  {
   "cell_type": "code",
   "execution_count": 14,
   "id": "e4ae1802",
   "metadata": {},
   "outputs": [
    {
     "name": "stdout",
     "output_type": "stream",
     "text": [
      "[ 1  2  3  4  5  6  7  8  9 10]\n"
     ]
    }
   ],
   "source": [
    "# NumPy arrays can be indexed and sliced. Slicing an array means dividing an\n",
    "# array into multiple parts. NumPy arrays are indexed just like normal lists.\n",
    "# Indexes in NumPy arrays start from 0, which means that the first item of a\n",
    "# NumPy array is stored at the 0th index. The following script creates a simple\n",
    "# NumPy array of the first 10 positive integers.\n",
    "\n",
    "s = np.arange(1,11)\n",
    "print(s)"
   ]
  },
  {
   "cell_type": "code",
   "execution_count": 7,
   "id": "618aec44",
   "metadata": {},
   "outputs": [
    {
     "name": "stdout",
     "output_type": "stream",
     "text": [
      "[ 1  2  3  4  5  6  7  8  9 10]\n",
      "2\n"
     ]
    }
   ],
   "source": [
    "# The item at index one can be accessed as follows:\n",
    "import numpy as np\n",
    "s = np.arange(1,11)\n",
    "print(s)\n",
    "print(s[1])"
   ]
  },
  {
   "cell_type": "code",
   "execution_count": 13,
   "id": "5acd99f1",
   "metadata": {},
   "outputs": [
    {
     "name": "stdout",
     "output_type": "stream",
     "text": [
      "[ 1  2  3  4  5  6  7  8  9 10]\n",
      "[2 3 4 5 6 7 8 9]\n"
     ]
    }
   ],
   "source": [
    "# To slice an array, you have to pass the lower index, followed by a colon and\n",
    "# the upper index. The items from the lower index (inclusive) to the upper\n",
    "# index (exclusive) will be filtered. The following script slices the array “s”\n",
    "# from the 1st index to the 9th index. The elements from index 1 to 8 are\n",
    "# printed in the output.\n",
    "\n",
    "s = np.arange(1,11)\n",
    "print(s)\n",
    "print(s[1:9])"
   ]
  },
  {
   "cell_type": "code",
   "execution_count": 12,
   "id": "233b65bc",
   "metadata": {},
   "outputs": [
    {
     "name": "stdout",
     "output_type": "stream",
     "text": [
      "[ 1  2  3  4  5  6  7  8  9 10]\n",
      "[1 2 3 4 5]\n",
      "[ 6  7  8  9 10]\n"
     ]
    }
   ],
   "source": [
    "# If you specify only the upper bound, all the items from the first index to the\n",
    "# upper bound are returned. Similarly, if you specify only the lower bound, all\n",
    "# the items from the lower bound to the last item of the array are returned.\n",
    "\n",
    "s = np.arange(1,11)\n",
    "print(s)\n",
    "print(s[:5])\n",
    "print(s[5:])\n"
   ]
  },
  {
   "cell_type": "code",
   "execution_count": 11,
   "id": "c6112d5f",
   "metadata": {},
   "outputs": [
    {
     "name": "stdout",
     "output_type": "stream",
     "text": [
      "[[10 12 13]\n",
      " [45 32 16]]\n"
     ]
    }
   ],
   "source": [
    "# Array slicing can also be applied on a two-dimensional array. To do so, you\n",
    "# have to apply slicing on arrays and columns separately. A comma separates\n",
    "# the rows and columns slicing. In the following script, the rows from the\n",
    "# first and second indexes are returned, while all the columns are returned.\n",
    "# You can see the first two complete rows in the output.\n",
    "\n",
    "row1 = [10,12,13]\n",
    "row2 = [45,32,16]\n",
    "row3 = [45,32,16]\n",
    "nums_2d = np.array([row1, row2, row3])\n",
    "print(nums_2d[:2,:])"
   ]
  },
  {
   "cell_type": "code",
   "execution_count": null,
   "id": "d82cf5f2",
   "metadata": {},
   "outputs": [],
   "source": []
  }
 ],
 "metadata": {
  "kernelspec": {
   "display_name": "Python 3",
   "language": "python",
   "name": "python3"
  },
  "language_info": {
   "codemirror_mode": {
    "name": "ipython",
    "version": 3
   },
   "file_extension": ".py",
   "mimetype": "text/x-python",
   "name": "python",
   "nbconvert_exporter": "python",
   "pygments_lexer": "ipython3",
   "version": "3.8.8"
  }
 },
 "nbformat": 4,
 "nbformat_minor": 5
}
